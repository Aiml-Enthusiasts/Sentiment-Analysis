{
 "cells": [
  {
   "cell_type": "code",
   "execution_count": 1,
   "id": "6594aebf",
   "metadata": {
    "_cell_guid": "b1076dfc-b9ad-4769-8c92-a6c4dae69d19",
    "_uuid": "8f2839f25d086af736a60e9eeb907d3b93b6e0e5",
    "execution": {
     "iopub.execute_input": "2024-01-03T15:46:21.916787Z",
     "iopub.status.busy": "2024-01-03T15:46:21.916208Z",
     "iopub.status.idle": "2024-01-03T15:46:24.750964Z",
     "shell.execute_reply": "2024-01-03T15:46:24.749633Z"
    },
    "papermill": {
     "duration": 2.845516,
     "end_time": "2024-01-03T15:46:24.753818",
     "exception": false,
     "start_time": "2024-01-03T15:46:21.908302",
     "status": "completed"
    },
    "tags": []
   },
   "outputs": [],
   "source": [
    "# This Python 3 environment comes with many helpful analytics libraries installed\n",
    "# It is defined by the kaggle/python Docker image: https://github.com/kaggle/docker-python\n",
    "# For example, here's several helpful packages to load\n",
    "\n",
    "import numpy as np # linear algebra\n",
    "import pandas as pd # data processing, CSV file I/O (e.g. pd.read_csv)\n",
    "import matplotlib.pyplot as plt\n",
    "import seaborn as sns\n",
    "\n",
    "plt.style.use('ggplot')\n",
    "\n",
    "import nltk\n",
    "\n"
   ]
  },
  {
   "cell_type": "code",
   "execution_count": 2,
   "id": "a57bce80",
   "metadata": {
    "execution": {
     "iopub.execute_input": "2024-01-03T15:46:24.768654Z",
     "iopub.status.busy": "2024-01-03T15:46:24.766760Z",
     "iopub.status.idle": "2024-01-03T15:46:32.038199Z",
     "shell.execute_reply": "2024-01-03T15:46:32.037071Z"
    },
    "papermill": {
     "duration": 7.281304,
     "end_time": "2024-01-03T15:46:32.040652",
     "exception": false,
     "start_time": "2024-01-03T15:46:24.759348",
     "status": "completed"
    },
    "tags": []
   },
   "outputs": [],
   "source": [
    "df = pd.read_csv('../input/amazon-fine-food-reviews/Reviews.csv')\n"
   ]
  },
  {
   "cell_type": "code",
   "execution_count": 3,
   "id": "0406ceb1",
   "metadata": {
    "execution": {
     "iopub.execute_input": "2024-01-03T15:46:32.052893Z",
     "iopub.status.busy": "2024-01-03T15:46:32.052494Z",
     "iopub.status.idle": "2024-01-03T15:46:32.057886Z",
     "shell.execute_reply": "2024-01-03T15:46:32.056538Z"
    },
    "papermill": {
     "duration": 0.014138,
     "end_time": "2024-01-03T15:46:32.060122",
     "exception": false,
     "start_time": "2024-01-03T15:46:32.045984",
     "status": "completed"
    },
    "tags": []
   },
   "outputs": [
    {
     "name": "stdout",
     "output_type": "stream",
     "text": [
      "(500, 10)\n"
     ]
    }
   ],
   "source": [
    "\n",
    "df = df.head(500)\n",
    "print(df.shape)"
   ]
  },
  {
   "cell_type": "code",
   "execution_count": 4,
   "id": "fd115e85",
   "metadata": {
    "execution": {
     "iopub.execute_input": "2024-01-03T15:46:32.072988Z",
     "iopub.status.busy": "2024-01-03T15:46:32.072407Z",
     "iopub.status.idle": "2024-01-03T15:46:32.378776Z",
     "shell.execute_reply": "2024-01-03T15:46:32.377133Z"
    },
    "papermill": {
     "duration": 0.315842,
     "end_time": "2024-01-03T15:46:32.381597",
     "exception": false,
     "start_time": "2024-01-03T15:46:32.065755",
     "status": "completed"
    },
    "tags": []
   },
   "outputs": [
    {
     "data": {
      "text/plain": [
       "<Axes: title={'center': 'Count of Reviews by stars'}, xlabel='Score'>"
      ]
     },
     "execution_count": 4,
     "metadata": {},
     "output_type": "execute_result"
    },
    {
     "data": {
      "image/png": "[encoded data removed]",
      "text/plain": [
       "<Figure size 1000x500 with 1 Axes>"
      ]
     },
     "metadata": {},
     "output_type": "display_data"
    }
   ],
   "source": [
    "df['Score'].value_counts().sort_index().plot(kind='bar', title = 'Count of Reviews by stars', figsize=(10,5))"
   ]
  },
  {
   "cell_type": "markdown",
   "id": "2e17aaa1",
   "metadata": {
    "papermill": {
     "duration": 0.00549,
     "end_time": "2024-01-03T15:46:32.392966",
     "exception": false,
     "start_time": "2024-01-03T15:46:32.387476",
     "status": "completed"
    },
    "tags": []
   },
   "source": []
  },
  {
   "cell_type": "markdown",
   "id": "ba0ec1df",
   "metadata": {
    "papermill": {
     "duration": 0.005355,
     "end_time": "2024-01-03T15:46:32.403881",
     "exception": false,
     "start_time": "2024-01-03T15:46:32.398526",
     "status": "completed"
    },
    "tags": []
   },
   "source": [
    "##NLTK"
   ]
  },
  {
   "cell_type": "code",
   "execution_count": 5,
   "id": "ed4e36cd",
   "metadata": {
    "execution": {
     "iopub.execute_input": "2024-01-03T15:46:32.418389Z",
     "iopub.status.busy": "2024-01-03T15:46:32.417139Z",
     "iopub.status.idle": "2024-01-03T15:46:32.424923Z",
     "shell.execute_reply": "2024-01-03T15:46:32.422699Z"
    },
    "papermill": {
     "duration": 0.017756,
     "end_time": "2024-01-03T15:46:32.427774",
     "exception": false,
     "start_time": "2024-01-03T15:46:32.410018",
     "status": "completed"
    },
    "tags": []
   },
   "outputs": [
    {
     "name": "stdout",
     "output_type": "stream",
     "text": [
      "This oatmeal is not good. Its mushy, soft, I don't like it. Quaker Oats is the way to go.\n"
     ]
    }
   ],
   "source": [
    "example = df['Text'][50]\n",
    "print(example)"
   ]
  },
  {
   "cell_type": "code",
   "execution_count": 6,
   "id": "ee6a949c",
   "metadata": {
    "execution": {
     "iopub.execute_input": "2024-01-03T15:46:32.441436Z",
     "iopub.status.busy": "2024-01-03T15:46:32.441031Z",
     "iopub.status.idle": "2024-01-03T15:46:32.461618Z",
     "shell.execute_reply": "2024-01-03T15:46:32.460713Z"
    },
    "papermill": {
     "duration": 0.029663,
     "end_time": "2024-01-03T15:46:32.463444",
     "exception": false,
     "start_time": "2024-01-03T15:46:32.433781",
     "status": "completed"
    },
    "tags": []
   },
   "outputs": [
    {
     "data": {
      "text/plain": [
       "['This',\n",
       " 'oatmeal',\n",
       " 'is',\n",
       " 'not',\n",
       " 'good',\n",
       " '.',\n",
       " 'Its',\n",
       " 'mushy',\n",
       " ',',\n",
       " 'soft',\n",
       " ',',\n",
       " 'I',\n",
       " 'do',\n",
       " \"n't\",\n",
       " 'like',\n",
       " 'it',\n",
       " '.',\n",
       " 'Quaker',\n",
       " 'Oats',\n",
       " 'is',\n",
       " 'the',\n",
       " 'way',\n",
       " 'to',\n",
       " 'go',\n",
       " '.']"
      ]
     },
     "execution_count": 6,
     "metadata": {},
     "output_type": "execute_result"
    }
   ],
   "source": [
    "nltk.word_tokenize(example)"
   ]
  },
  {
   "cell_type": "code",
   "execution_count": 7,
   "id": "ee20c3fa",
   "metadata": {
    "execution": {
     "iopub.execute_input": "2024-01-03T15:46:32.476995Z",
     "iopub.status.busy": "2024-01-03T15:46:32.476440Z",
     "iopub.status.idle": "2024-01-03T15:46:32.482724Z",
     "shell.execute_reply": "2024-01-03T15:46:32.481776Z"
    },
    "papermill": {
     "duration": 0.015132,
     "end_time": "2024-01-03T15:46:32.484409",
     "exception": false,
     "start_time": "2024-01-03T15:46:32.469277",
     "status": "completed"
    },
    "tags": []
   },
   "outputs": [
    {
     "data": {
      "text/plain": [
       "['This', 'oatmeal', 'is', 'not', 'good', '.', 'Its', 'mushy', ',', 'soft']"
      ]
     },
     "execution_count": 7,
     "metadata": {},
     "output_type": "execute_result"
    }
   ],
   "source": [
    "tokens = nltk.word_tokenize(example)\n",
    "tokens[:10]"
   ]
  },
  {
   "cell_type": "code",
   "execution_count": 8,
   "id": "f4d7bbc7",
   "metadata": {
    "execution": {
     "iopub.execute_input": "2024-01-03T15:46:32.498710Z",
     "iopub.status.busy": "2024-01-03T15:46:32.497836Z",
     "iopub.status.idle": "2024-01-03T15:46:32.601859Z",
     "shell.execute_reply": "2024-01-03T15:46:32.600620Z"
    },
    "papermill": {
     "duration": 0.113918,
     "end_time": "2024-01-03T15:46:32.604348",
     "exception": false,
     "start_time": "2024-01-03T15:46:32.490430",
     "status": "completed"
    },
    "tags": []
   },
   "outputs": [
    {
     "data": {
      "text/plain": [
       "[('This', 'DT'),\n",
       " ('oatmeal', 'NN'),\n",
       " ('is', 'VBZ'),\n",
       " ('not', 'RB'),\n",
       " ('good', 'JJ'),\n",
       " ('.', '.'),\n",
       " ('Its', 'PRP$'),\n",
       " ('mushy', 'NN'),\n",
       " (',', ','),\n",
       " ('soft', 'JJ'),\n",
       " (',', ','),\n",
       " ('I', 'PRP'),\n",
       " ('do', 'VBP'),\n",
       " (\"n't\", 'RB'),\n",
       " ('like', 'VB'),\n",
       " ('it', 'PRP'),\n",
       " ('.', '.'),\n",
       " ('Quaker', 'NNP'),\n",
       " ('Oats', 'NNPS'),\n",
       " ('is', 'VBZ'),\n",
       " ('the', 'DT'),\n",
       " ('way', 'NN'),\n",
       " ('to', 'TO'),\n",
       " ('go', 'VB'),\n",
       " ('.', '.')]"
      ]
     },
     "execution_count": 8,
     "metadata": {},
     "output_type": "execute_result"
    }
   ],
   "source": [
    "nltk.pos_tag(tokens)"
   ]
  },
  {
   "cell_type": "code",
   "execution_count": 9,
   "id": "e5fe8902",
   "metadata": {
    "execution": {
     "iopub.execute_input": "2024-01-03T15:46:32.619146Z",
     "iopub.status.busy": "2024-01-03T15:46:32.618781Z",
     "iopub.status.idle": "2024-01-03T15:46:32.718765Z",
     "shell.execute_reply": "2024-01-03T15:46:32.716895Z"
    },
    "papermill": {
     "duration": 0.110161,
     "end_time": "2024-01-03T15:46:32.720873",
     "exception": false,
     "start_time": "2024-01-03T15:46:32.610712",
     "status": "completed"
    },
    "tags": []
   },
   "outputs": [
    {
     "name": "stdout",
     "output_type": "stream",
     "text": [
      "(S\n",
      "  This/DT\n",
      "  oatmeal/NN\n",
      "  is/VBZ\n",
      "  not/RB\n",
      "  good/JJ\n",
      "  ./.\n",
      "  Its/PRP$\n",
      "  mushy/NN\n",
      "  ,/,\n",
      "  soft/JJ\n",
      "  ,/,\n",
      "  I/PRP\n",
      "  do/VBP\n",
      "  n't/RB\n",
      "  like/VB\n",
      "  it/PRP\n",
      "  ./.\n",
      "  (ORGANIZATION Quaker/NNP Oats/NNPS)\n",
      "  is/VBZ\n",
      "  the/DT\n",
      "  way/NN\n",
      "  to/TO\n",
      "  go/VB\n",
      "  ./.)\n"
     ]
    }
   ],
   "source": [
    "tagged = nltk.pos_tag(tokens)\n",
    "tagged[:10]\n",
    "\n",
    "entities = nltk.chunk.ne_chunk(tagged)\n",
    "entities.pprint()"
   ]
  },
  {
   "cell_type": "code",
   "execution_count": null,
   "id": "4302d0d0",
   "metadata": {
    "papermill": {
     "duration": 0.005892,
     "end_time": "2024-01-03T15:46:32.733313",
     "exception": false,
     "start_time": "2024-01-03T15:46:32.727421",
     "status": "completed"
    },
    "tags": []
   },
   "outputs": [],
   "source": []
  },
  {
   "cell_type": "markdown",
   "id": "d1847e33",
   "metadata": {
    "papermill": {
     "duration": 0.007016,
     "end_time": "2024-01-03T15:46:32.746347",
     "exception": false,
     "start_time": "2024-01-03T15:46:32.739331",
     "status": "completed"
    },
    "tags": []
   },
   "source": [
    "# VADER SENTIMENT"
   ]
  },
  {
   "cell_type": "markdown",
   "id": "aa746b06",
   "metadata": {
    "papermill": {
     "duration": 0.005622,
     "end_time": "2024-01-03T15:46:32.758248",
     "exception": false,
     "start_time": "2024-01-03T15:46:32.752626",
     "status": "completed"
    },
    "tags": []
   },
   "source": [
    "Removal of stop words and each word is scored and combined to a total score"
   ]
  },
  {
   "cell_type": "code",
   "execution_count": 10,
   "id": "f0a272a2",
   "metadata": {
    "execution": {
     "iopub.execute_input": "2024-01-03T15:46:32.772074Z",
     "iopub.status.busy": "2024-01-03T15:46:32.771735Z",
     "iopub.status.idle": "2024-01-03T15:46:32.813449Z",
     "shell.execute_reply": "2024-01-03T15:46:32.812673Z"
    },
    "papermill": {
     "duration": 0.051052,
     "end_time": "2024-01-03T15:46:32.815222",
     "exception": false,
     "start_time": "2024-01-03T15:46:32.764170",
     "status": "completed"
    },
    "tags": []
   },
   "outputs": [
    {
     "name": "stderr",
     "output_type": "stream",
     "text": [
      "/opt/conda/lib/python3.10/site-packages/nltk/twitter/__init__.py:20: UserWarning: The twython library has not been installed. Some functionality from the twitter package will not be available.\n",
      "  warnings.warn(\"The twython library has not been installed. \"\n"
     ]
    }
   ],
   "source": [
    "from nltk.sentiment import SentimentIntensityAnalyzer\n",
    "from tqdm.notebook import tqdm\n",
    "\n",
    "sia = SentimentIntensityAnalyzer()"
   ]
  },
  {
   "cell_type": "code",
   "execution_count": 11,
   "id": "1e900bcc",
   "metadata": {
    "execution": {
     "iopub.execute_input": "2024-01-03T15:46:32.829516Z",
     "iopub.status.busy": "2024-01-03T15:46:32.828902Z",
     "iopub.status.idle": "2024-01-03T15:46:32.835419Z",
     "shell.execute_reply": "2024-01-03T15:46:32.834655Z"
    },
    "papermill": {
     "duration": 0.01622,
     "end_time": "2024-01-03T15:46:32.837756",
     "exception": false,
     "start_time": "2024-01-03T15:46:32.821536",
     "status": "completed"
    },
    "tags": []
   },
   "outputs": [
    {
     "data": {
      "text/plain": [
       "{'neg': 0.0, 'neu': 0.304, 'pos': 0.696, 'compound': 0.6785}"
      ]
     },
     "execution_count": 11,
     "metadata": {},
     "output_type": "execute_result"
    }
   ],
   "source": [
    "sia.polarity_scores('i am so happy!!')"
   ]
  },
  {
   "cell_type": "code",
   "execution_count": 12,
   "id": "7631b13b",
   "metadata": {
    "execution": {
     "iopub.execute_input": "2024-01-03T15:46:32.852927Z",
     "iopub.status.busy": "2024-01-03T15:46:32.852126Z",
     "iopub.status.idle": "2024-01-03T15:46:32.858191Z",
     "shell.execute_reply": "2024-01-03T15:46:32.857092Z"
    },
    "papermill": {
     "duration": 0.015571,
     "end_time": "2024-01-03T15:46:32.859962",
     "exception": false,
     "start_time": "2024-01-03T15:46:32.844391",
     "status": "completed"
    },
    "tags": []
   },
   "outputs": [
    {
     "data": {
      "text/plain": [
       "{'neg': 0.506, 'neu': 0.494, 'pos': 0.0, 'compound': -0.6249}"
      ]
     },
     "execution_count": 12,
     "metadata": {},
     "output_type": "execute_result"
    }
   ],
   "source": [
    "sia.polarity_scores('my college is the worst')"
   ]
  },
  {
   "cell_type": "code",
   "execution_count": 13,
   "id": "eda82b43",
   "metadata": {
    "execution": {
     "iopub.execute_input": "2024-01-03T15:46:32.874791Z",
     "iopub.status.busy": "2024-01-03T15:46:32.874404Z",
     "iopub.status.idle": "2024-01-03T15:46:32.883611Z",
     "shell.execute_reply": "2024-01-03T15:46:32.881913Z"
    },
    "papermill": {
     "duration": 0.01939,
     "end_time": "2024-01-03T15:46:32.885831",
     "exception": false,
     "start_time": "2024-01-03T15:46:32.866441",
     "status": "completed"
    },
    "tags": []
   },
   "outputs": [
    {
     "data": {
      "text/plain": [
       "{'neg': 0.22, 'neu': 0.78, 'pos': 0.0, 'compound': -0.5448}"
      ]
     },
     "execution_count": 13,
     "metadata": {},
     "output_type": "execute_result"
    }
   ],
   "source": [
    "sia.polarity_scores(example)"
   ]
  },
  {
   "cell_type": "markdown",
   "id": "b85e6a73",
   "metadata": {
    "papermill": {
     "duration": 0.006582,
     "end_time": "2024-01-03T15:46:32.899690",
     "exception": false,
     "start_time": "2024-01-03T15:46:32.893108",
     "status": "completed"
    },
    "tags": []
   },
   "source": []
  },
  {
   "cell_type": "markdown",
   "id": "496a6813",
   "metadata": {
    "papermill": {
     "duration": 0.006344,
     "end_time": "2024-01-03T15:46:32.913098",
     "exception": false,
     "start_time": "2024-01-03T15:46:32.906754",
     "status": "completed"
    },
    "tags": []
   },
   "source": [
    "##Run polarity score on the entire dataset"
   ]
  },
  {
   "cell_type": "code",
   "execution_count": 14,
   "id": "c3130272",
   "metadata": {
    "execution": {
     "iopub.execute_input": "2024-01-03T15:46:32.928662Z",
     "iopub.status.busy": "2024-01-03T15:46:32.928041Z",
     "iopub.status.idle": "2024-01-03T15:46:33.403646Z",
     "shell.execute_reply": "2024-01-03T15:46:33.402898Z"
    },
    "papermill": {
     "duration": 0.485744,
     "end_time": "2024-01-03T15:46:33.405528",
     "exception": false,
     "start_time": "2024-01-03T15:46:32.919784",
     "status": "completed"
    },
    "tags": []
   },
   "outputs": [
    {
     "data": {
      "application/vnd.jupyter.widget-view+json": {
       "model_id": "ce7471f18db54b9590999bccebe77d88",
       "version_major": 2,
       "version_minor": 0
      },
      "text/plain": [
       "  0%|          | 0/500 [00:00<?, ?it/s]"
      ]
     },
     "metadata": {},
     "output_type": "display_data"
    }
   ],
   "source": [
    "res = {}\n",
    "for i, row in tqdm(df.iterrows(), total=len(df)):\n",
    "    text = row['Text']\n",
    "    myid = row['Id']\n",
    "    res[myid] = sia.polarity_scores(text)\n",
    "    "
   ]
  },
  {
   "cell_type": "code",
   "execution_count": 15,
   "id": "59831ab8",
   "metadata": {
    "execution": {
     "iopub.execute_input": "2024-01-03T15:46:33.421345Z",
     "iopub.status.busy": "2024-01-03T15:46:33.421001Z",
     "iopub.status.idle": "2024-01-03T15:46:33.449822Z",
     "shell.execute_reply": "2024-01-03T15:46:33.448804Z"
    },
    "papermill": {
     "duration": 0.039818,
     "end_time": "2024-01-03T15:46:33.452736",
     "exception": false,
     "start_time": "2024-01-03T15:46:33.412918",
     "status": "completed"
    },
    "tags": []
   },
   "outputs": [],
   "source": [
    "vaders = pd.DataFrame(res).T\n",
    "vaders = vaders.reset_index().rename(columns={'index': 'Id'})\n",
    "vaders = vaders.merge(df, how='left')"
   ]
  },
  {
   "cell_type": "code",
   "execution_count": 16,
   "id": "78e0303c",
   "metadata": {
    "execution": {
     "iopub.execute_input": "2024-01-03T15:46:33.467845Z",
     "iopub.status.busy": "2024-01-03T15:46:33.467356Z",
     "iopub.status.idle": "2024-01-03T15:46:33.489438Z",
     "shell.execute_reply": "2024-01-03T15:46:33.487938Z"
    },
    "papermill": {
     "duration": 0.032079,
     "end_time": "2024-01-03T15:46:33.491527",
     "exception": false,
     "start_time": "2024-01-03T15:46:33.459448",
     "status": "completed"
    },
    "tags": []
   },
   "outputs": [
    {
     "data": {
      "text/html": [
       "<div>\n",
       "<style scoped>\n",
       "    .dataframe tbody tr th:only-of-type {\n",
       "        vertical-align: middle;\n",
       "    }\n",
       "\n",
       "    .dataframe tbody tr th {\n",
       "        vertical-align: top;\n",
       "    }\n",
       "\n",
       "    .dataframe thead th {\n",
       "        text-align: right;\n",
       "    }\n",
       "</style>\n",
       "<table border=\"1\" class=\"dataframe\">\n",
       "  <thead>\n",
       "    <tr style=\"text-align: right;\">\n",
       "      <th></th>\n",
       "      <th>Id</th>\n",
       "      <th>neg</th>\n",
       "      <th>neu</th>\n",
       "      <th>pos</th>\n",
       "      <th>compound</th>\n",
       "      <th>ProductId</th>\n",
       "      <th>UserId</th>\n",
       "      <th>ProfileName</th>\n",
       "      <th>HelpfulnessNumerator</th>\n",
       "      <th>HelpfulnessDenominator</th>\n",
       "      <th>Score</th>\n",
       "      <th>Time</th>\n",
       "      <th>Summary</th>\n",
       "      <th>Text</th>\n",
       "    </tr>\n",
       "  </thead>\n",
       "  <tbody>\n",
       "    <tr>\n",
       "      <th>0</th>\n",
       "      <td>1</td>\n",
       "      <td>0.000</td>\n",
       "      <td>0.695</td>\n",
       "      <td>0.305</td>\n",
       "      <td>0.9441</td>\n",
       "      <td>B001E4KFG0</td>\n",
       "      <td>A3SGXH7AUHU8GW</td>\n",
       "      <td>delmartian</td>\n",
       "      <td>1</td>\n",
       "      <td>1</td>\n",
       "      <td>5</td>\n",
       "      <td>1303862400</td>\n",
       "      <td>Good Quality Dog Food</td>\n",
       "      <td>I have bought several of the Vitality canned d...</td>\n",
       "    </tr>\n",
       "    <tr>\n",
       "      <th>1</th>\n",
       "      <td>2</td>\n",
       "      <td>0.079</td>\n",
       "      <td>0.853</td>\n",
       "      <td>0.068</td>\n",
       "      <td>-0.1027</td>\n",
       "      <td>B00813GRG4</td>\n",
       "      <td>A1D87F6ZCVE5NK</td>\n",
       "      <td>dll pa</td>\n",
       "      <td>0</td>\n",
       "      <td>0</td>\n",
       "      <td>1</td>\n",
       "      <td>1346976000</td>\n",
       "      <td>Not as Advertised</td>\n",
       "      <td>Product arrived labeled as Jumbo Salted Peanut...</td>\n",
       "    </tr>\n",
       "    <tr>\n",
       "      <th>2</th>\n",
       "      <td>3</td>\n",
       "      <td>0.091</td>\n",
       "      <td>0.754</td>\n",
       "      <td>0.155</td>\n",
       "      <td>0.8265</td>\n",
       "      <td>B000LQOCH0</td>\n",
       "      <td>ABXLMWJIXXAIN</td>\n",
       "      <td>Natalia Corres \"Natalia Corres\"</td>\n",
       "      <td>1</td>\n",
       "      <td>1</td>\n",
       "      <td>4</td>\n",
       "      <td>1219017600</td>\n",
       "      <td>\"Delight\" says it all</td>\n",
       "      <td>This is a confection that has been around a fe...</td>\n",
       "    </tr>\n",
       "    <tr>\n",
       "      <th>3</th>\n",
       "      <td>4</td>\n",
       "      <td>0.000</td>\n",
       "      <td>1.000</td>\n",
       "      <td>0.000</td>\n",
       "      <td>0.0000</td>\n",
       "      <td>B000UA0QIQ</td>\n",
       "      <td>A395BORC6FGVXV</td>\n",
       "      <td>Karl</td>\n",
       "      <td>3</td>\n",
       "      <td>3</td>\n",
       "      <td>2</td>\n",
       "      <td>1307923200</td>\n",
       "      <td>Cough Medicine</td>\n",
       "      <td>If you are looking for the secret ingredient i...</td>\n",
       "    </tr>\n",
       "    <tr>\n",
       "      <th>4</th>\n",
       "      <td>5</td>\n",
       "      <td>0.000</td>\n",
       "      <td>0.552</td>\n",
       "      <td>0.448</td>\n",
       "      <td>0.9468</td>\n",
       "      <td>B006K2ZZ7K</td>\n",
       "      <td>A1UQRSCLF8GW1T</td>\n",
       "      <td>Michael D. Bigham \"M. Wassir\"</td>\n",
       "      <td>0</td>\n",
       "      <td>0</td>\n",
       "      <td>5</td>\n",
       "      <td>1350777600</td>\n",
       "      <td>Great taffy</td>\n",
       "      <td>Great taffy at a great price.  There was a wid...</td>\n",
       "    </tr>\n",
       "  </tbody>\n",
       "</table>\n",
       "</div>"
      ],
      "text/plain": [
       "   Id    neg    neu    pos  compound   ProductId          UserId  \\\n",
       "0   1  0.000  0.695  0.305    0.9441  B001E4KFG0  A3SGXH7AUHU8GW   \n",
       "1   2  0.079  0.853  0.068   -0.1027  B00813GRG4  A1D87F6ZCVE5NK   \n",
       "2   3  0.091  0.754  0.155    0.8265  B000LQOCH0   ABXLMWJIXXAIN   \n",
       "3   4  0.000  1.000  0.000    0.0000  B000UA0QIQ  A395BORC6FGVXV   \n",
       "4   5  0.000  0.552  0.448    0.9468  B006K2ZZ7K  A1UQRSCLF8GW1T   \n",
       "\n",
       "                       ProfileName  HelpfulnessNumerator  \\\n",
       "0                       delmartian                     1   \n",
       "1                           dll pa                     0   \n",
       "2  Natalia Corres \"Natalia Corres\"                     1   \n",
       "3                             Karl                     3   \n",
       "4    Michael D. Bigham \"M. Wassir\"                     0   \n",
       "\n",
       "   HelpfulnessDenominator  Score        Time                Summary  \\\n",
       "0                       1      5  1303862400  Good Quality Dog Food   \n",
       "1                       0      1  1346976000      Not as Advertised   \n",
       "2                       1      4  1219017600  \"Delight\" says it all   \n",
       "3                       3      2  1307923200         Cough Medicine   \n",
       "4                       0      5  1350777600            Great taffy   \n",
       "\n",
       "                                                Text  \n",
       "0  I have bought several of the Vitality canned d...  \n",
       "1  Product arrived labeled as Jumbo Salted Peanut...  \n",
       "2  This is a confection that has been around a fe...  \n",
       "3  If you are looking for the secret ingredient i...  \n",
       "4  Great taffy at a great price.  There was a wid...  "
      ]
     },
     "execution_count": 16,
     "metadata": {},
     "output_type": "execute_result"
    }
   ],
   "source": [
    "vaders.head()"
   ]
  },
  {
   "cell_type": "code",
   "execution_count": 17,
   "id": "8a1cb733",
   "metadata": {
    "execution": {
     "iopub.execute_input": "2024-01-03T15:46:33.508080Z",
     "iopub.status.busy": "2024-01-03T15:46:33.507643Z",
     "iopub.status.idle": "2024-01-03T15:46:33.790986Z",
     "shell.execute_reply": "2024-01-03T15:46:33.789400Z"
    },
    "papermill": {
     "duration": 0.294727,
     "end_time": "2024-01-03T15:46:33.793619",
     "exception": false,
     "start_time": "2024-01-03T15:46:33.498892",
     "status": "completed"
    },
    "tags": []
   },
   "outputs": [
    {
     "data": {
      "image/png": "[encoded data removed]",
      "text/plain": [
       "<Figure size 640x480 with 1 Axes>"
      ]
     },
     "metadata": {},
     "output_type": "display_data"
    }
   ],
   "source": [
    "ax= sns.barplot(data=vaders, x='Score', y='compound')\n",
    "ax.set_title('compound score by amazon star review')\n",
    "plt.show()"
   ]
  },
  {
   "cell_type": "code",
   "execution_count": 18,
   "id": "8bd53ead",
   "metadata": {
    "execution": {
     "iopub.execute_input": "2024-01-03T15:46:33.811378Z",
     "iopub.status.busy": "2024-01-03T15:46:33.810985Z",
     "iopub.status.idle": "2024-01-03T15:46:34.536383Z",
     "shell.execute_reply": "2024-01-03T15:46:34.534882Z"
    },
    "papermill": {
     "duration": 0.73829,
     "end_time": "2024-01-03T15:46:34.539354",
     "exception": false,
     "start_time": "2024-01-03T15:46:33.801064",
     "status": "completed"
    },
    "tags": []
   },
   "outputs": [
    {
     "data": {
      "image/png": "[encoded data removed]",
      "text/plain": [
       "<Figure size 1200x300 with 3 Axes>"
      ]
     },
     "metadata": {},
     "output_type": "display_data"
    }
   ],
   "source": [
    "fig, axs = plt.subplots(1,3, figsize=(12,3))\n",
    "sns.barplot(data=vaders, x='Score', y='pos', ax=axs[0])\n",
    "sns.barplot(data=vaders, x='Score', y='neu', ax=axs[1])\n",
    "sns.barplot(data=vaders, x='Score', y='neg', ax=axs[2])\n",
    "axs[0].set_title('Positive')\n",
    "axs[1].set_title('Neutral')\n",
    "axs[2].set_title('Negative')\n",
    "plt.show()"
   ]
  },
  {
   "cell_type": "code",
   "execution_count": null,
   "id": "fc1659dc",
   "metadata": {
    "papermill": {
     "duration": 0.007776,
     "end_time": "2024-01-03T15:46:34.555627",
     "exception": false,
     "start_time": "2024-01-03T15:46:34.547851",
     "status": "completed"
    },
    "tags": []
   },
   "outputs": [],
   "source": []
  }
 ],
 "metadata": {
  "kaggle": {
   "accelerator": "none",
   "dataSources": [
    {
     "datasetId": 18,
     "sourceId": 2157,
     "sourceType": "datasetVersion"
    }
   ],
   "dockerImageVersionId": 30626,
   "isGpuEnabled": false,
   "isInternetEnabled": false,
   "language": "python",
   "sourceType": "notebook"
  },
  "kernelspec": {
   "display_name": "Python 3",
   "language": "python",
   "name": "python3"
  },
  "language_info": {
   "codemirror_mode": {
    "name": "ipython",
    "version": 3
   },
   "file_extension": ".py",
   "mimetype": "text/x-python",
   "name": "python",
   "nbconvert_exporter": "python",
   "pygments_lexer": "ipython3",
   "version": "3.10.12"
  },
  "papermill": {
   "default_parameters": {},
   "duration": 16.216642,
   "end_time": "2024-01-03T15:46:35.387652",
   "environment_variables": {},
   "exception": null,
   "input_path": "__notebook__.ipynb",
   "output_path": "__notebook__.ipynb",
   "parameters": {},
   "start_time": "2024-01-03T15:46:19.171010",
   "version": "2.4.0"
  },
  "widgets": {
   "application/vnd.jupyter.widget-state+json": {
    "state": {
     "0deb73b0db84400d9b579b00c3c2d756": {
      "model_module": "@jupyter-widgets/base",
      "model_module_version": "1.2.0",
      "model_name": "LayoutModel",
      "state": {
       "_model_module": "@jupyter-widgets/base",
       "_model_module_version": "1.2.0",
       "_model_name": "LayoutModel",
       "_view_count": null,
       "_view_module": "@jupyter-widgets/base",
       "_view_module_version": "1.2.0",
       "_view_name": "LayoutView",
       "align_content": null,
       "align_items": null,
       "align_self": null,
       "border": null,
       "bottom": null,
       "display": null,
       "flex": null,
       "flex_flow": null,
       "grid_area": null,
       "grid_auto_columns": null,
       "grid_auto_flow": null,
       "grid_auto_rows": null,
       "grid_column": null,
       "grid_gap": null,
       "grid_row": null,
       "grid_template_areas": null,
       "grid_template_columns": null,
       "grid_template_rows": null,
       "height": null,
       "justify_content": null,
       "justify_items": null,
       "left": null,
       "margin": null,
       "max_height": null,
       "max_width": null,
       "min_height": null,
       "min_width": null,
       "object_fit": null,
       "object_position": null,
       "order": null,
       "overflow": null,
       "overflow_x": null,
       "overflow_y": null,
       "padding": null,
       "right": null,
       "top": null,
       "visibility": null,
       "width": null
      }
     },
     "19efcc2eaa1b4d37bfe79424f03870d1": {
      "model_module": "@jupyter-widgets/controls",
      "model_module_version": "1.5.0",
      "model_name": "FloatProgressModel",
      "state": {
       "_dom_classes": [],
       "_model_module": "@jupyter-widgets/controls",
       "_model_module_version": "1.5.0",
       "_model_name": "FloatProgressModel",
       "_view_count": null,
       "_view_module": "@jupyter-widgets/controls",
       "_view_module_version": "1.5.0",
       "_view_name": "ProgressView",
       "bar_style": "success",
       "description": "",
       "description_tooltip": null,
       "layout": "IPY_MODEL_8448849aff3945fea8815e3dcbe6ed00",
       "max": 500.0,
       "min": 0.0,
       "orientation": "horizontal",
       "style": "IPY_MODEL_bca5d5b37fd5444295a4c4ba14095eec",
       "value": 500.0
      }
     },
     "1f6ec1a9b7274d709f4ae5d55e9f98a6": {
      "model_module": "@jupyter-widgets/controls",
      "model_module_version": "1.5.0",
      "model_name": "HTMLModel",
      "state": {
       "_dom_classes": [],
       "_model_module": "@jupyter-widgets/controls",
       "_model_module_version": "1.5.0",
       "_model_name": "HTMLModel",
       "_view_count": null,
       "_view_module": "@jupyter-widgets/controls",
       "_view_module_version": "1.5.0",
       "_view_name": "HTMLView",
       "description": "",
       "description_tooltip": null,
       "layout": "IPY_MODEL_0deb73b0db84400d9b579b00c3c2d756",
       "placeholder": "​",
       "style": "IPY_MODEL_6382c4a8bbab45d195441d680bb694b7",
       "value": " 500/500 [00:00&lt;00:00, 1102.11it/s]"
      }
     },
     "6382c4a8bbab45d195441d680bb694b7": {
      "model_module": "@jupyter-widgets/controls",
      "model_module_version": "1.5.0",
      "model_name": "DescriptionStyleModel",
      "state": {
       "_model_module": "@jupyter-widgets/controls",
       "_model_module_version": "1.5.0",
       "_model_name": "DescriptionStyleModel",
       "_view_count": null,
       "_view_module": "@jupyter-widgets/base",
       "_view_module_version": "1.2.0",
       "_view_name": "StyleView",
       "description_width": ""
      }
     },
     "7f2c3a9f7aee421d813a9b6bc0c9782b": {
      "model_module": "@jupyter-widgets/base",
      "model_module_version": "1.2.0",
      "model_name": "LayoutModel",
      "state": {
       "_model_module": "@jupyter-widgets/base",
       "_model_module_version": "1.2.0",
       "_model_name": "LayoutModel",
       "_view_count": null,
       "_view_module": "@jupyter-widgets/base",
       "_view_module_version": "1.2.0",
       "_view_name": "LayoutView",
       "align_content": null,
       "align_items": null,
       "align_self": null,
       "border": null,
       "bottom": null,
       "display": null,
       "flex": null,
       "flex_flow": null,
       "grid_area": null,
       "grid_auto_columns": null,
       "grid_auto_flow": null,
       "grid_auto_rows": null,
       "grid_column": null,
       "grid_gap": null,
       "grid_row": null,
       "grid_template_areas": null,
       "grid_template_columns": null,
       "grid_template_rows": null,
       "height": null,
       "justify_content": null,
       "justify_items": null,
       "left": null,
       "margin": null,
       "max_height": null,
       "max_width": null,
       "min_height": null,
       "min_width": null,
       "object_fit": null,
       "object_position": null,
       "order": null,
       "overflow": null,
       "overflow_x": null,
       "overflow_y": null,
       "padding": null,
       "right": null,
       "top": null,
       "visibility": null,
       "width": null
      }
     },
     "8448849aff3945fea8815e3dcbe6ed00": {
      "model_module": "@jupyter-widgets/base",
      "model_module_version": "1.2.0",
      "model_name": "LayoutModel",
      "state": {
       "_model_module": "@jupyter-widgets/base",
       "_model_module_version": "1.2.0",
       "_model_name": "LayoutModel",
       "_view_count": null,
       "_view_module": "@jupyter-widgets/base",
       "_view_module_version": "1.2.0",
       "_view_name": "LayoutView",
       "align_content": null,
       "align_items": null,
       "align_self": null,
       "border": null,
       "bottom": null,
       "display": null,
       "flex": null,
       "flex_flow": null,
       "grid_area": null,
       "grid_auto_columns": null,
       "grid_auto_flow": null,
       "grid_auto_rows": null,
       "grid_column": null,
       "grid_gap": null,
       "grid_row": null,
       "grid_template_areas": null,
       "grid_template_columns": null,
       "grid_template_rows": null,
       "height": null,
       "justify_content": null,
       "justify_items": null,
       "left": null,
       "margin": null,
       "max_height": null,
       "max_width": null,
       "min_height": null,
       "min_width": null,
       "object_fit": null,
       "object_position": null,
       "order": null,
       "overflow": null,
       "overflow_x": null,
       "overflow_y": null,
       "padding": null,
       "right": null,
       "top": null,
       "visibility": null,
       "width": null
      }
     },
     "95654f826ded4144b42415b327829640": {
      "model_module": "@jupyter-widgets/base",
      "model_module_version": "1.2.0",
      "model_name": "LayoutModel",
      "state": {
       "_model_module": "@jupyter-widgets/base",
       "_model_module_version": "1.2.0",
       "_model_name": "LayoutModel",
       "_view_count": null,
       "_view_module": "@jupyter-widgets/base",
       "_view_module_version": "1.2.0",
       "_view_name": "LayoutView",
       "align_content": null,
       "align_items": null,
       "align_self": null,
       "border": null,
       "bottom": null,
       "display": null,
       "flex": null,
       "flex_flow": null,
       "grid_area": null,
       "grid_auto_columns": null,
       "grid_auto_flow": null,
       "grid_auto_rows": null,
       "grid_column": null,
       "grid_gap": null,
       "grid_row": null,
       "grid_template_areas": null,
       "grid_template_columns": null,
       "grid_template_rows": null,
       "height": null,
       "justify_content": null,
       "justify_items": null,
       "left": null,
       "margin": null,
       "max_height": null,
       "max_width": null,
       "min_height": null,
       "min_width": null,
       "object_fit": null,
       "object_position": null,
       "order": null,
       "overflow": null,
       "overflow_x": null,
       "overflow_y": null,
       "padding": null,
       "right": null,
       "top": null,
       "visibility": null,
       "width": null
      }
     },
     "bca5d5b37fd5444295a4c4ba14095eec": {
      "model_module": "@jupyter-widgets/controls",
      "model_module_version": "1.5.0",
      "model_name": "ProgressStyleModel",
      "state": {
       "_model_module": "@jupyter-widgets/controls",
       "_model_module_version": "1.5.0",
       "_model_name": "ProgressStyleModel",
       "_view_count": null,
       "_view_module": "@jupyter-widgets/base",
       "_view_module_version": "1.2.0",
       "_view_name": "StyleView",
       "bar_color": null,
       "description_width": ""
      }
     },
     "c876cdda037943e297303ef707fbfb0e": {
      "model_module": "@jupyter-widgets/controls",
      "model_module_version": "1.5.0",
      "model_name": "HTMLModel",
      "state": {
       "_dom_classes": [],
       "_model_module": "@jupyter-widgets/controls",
       "_model_module_version": "1.5.0",
       "_model_name": "HTMLModel",
       "_view_count": null,
       "_view_module": "@jupyter-widgets/controls",
       "_view_module_version": "1.5.0",
       "_view_name": "HTMLView",
       "description": "",
       "description_tooltip": null,
       "layout": "IPY_MODEL_7f2c3a9f7aee421d813a9b6bc0c9782b",
       "placeholder": "​",
       "style": "IPY_MODEL_f73b709dccb54b928bafc9fba8b3d3cf",
       "value": "100%"
      }
     },
     "ce7471f18db54b9590999bccebe77d88": {
      "model_module": "@jupyter-widgets/controls",
      "model_module_version": "1.5.0",
      "model_name": "HBoxModel",
      "state": {
       "_dom_classes": [],
       "_model_module": "@jupyter-widgets/controls",
       "_model_module_version": "1.5.0",
       "_model_name": "HBoxModel",
       "_view_count": null,
       "_view_module": "@jupyter-widgets/controls",
       "_view_module_version": "1.5.0",
       "_view_name": "HBoxView",
       "box_style": "",
       "children": [
        "IPY_MODEL_c876cdda037943e297303ef707fbfb0e",
        "IPY_MODEL_19efcc2eaa1b4d37bfe79424f03870d1",
        "IPY_MODEL_1f6ec1a9b7274d709f4ae5d55e9f98a6"
       ],
       "layout": "IPY_MODEL_95654f826ded4144b42415b327829640"
      }
     },
     "f73b709dccb54b928bafc9fba8b3d3cf": {
      "model_module": "@jupyter-widgets/controls",
      "model_module_version": "1.5.0",
      "model_name": "DescriptionStyleModel",
      "state": {
       "_model_module": "@jupyter-widgets/controls",
       "_model_module_version": "1.5.0",
       "_model_name": "DescriptionStyleModel",
       "_view_count": null,
       "_view_module": "@jupyter-widgets/base",
       "_view_module_version": "1.2.0",
       "_view_name": "StyleView",
       "description_width": ""
      }
     }
    },
    "version_major": 2,
    "version_minor": 0
   }
  }
 },
 "nbformat": 4,
 "nbformat_minor": 5
}
